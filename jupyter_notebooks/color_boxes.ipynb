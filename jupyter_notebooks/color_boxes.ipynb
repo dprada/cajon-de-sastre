{
 "cells": [
  {
   "cell_type": "markdown",
   "id": "d76bdb03-da3e-4068-abdf-82723a32bf3d",
   "metadata": {},
   "source": [
    "# Color boxes"
   ]
  },
  {
   "cell_type": "markdown",
   "id": "63c73884-03cb-45da-a9c8-360f3c8ff537",
   "metadata": {},
   "source": [
    "## Well done!"
   ]
  },
  {
   "cell_type": "markdown",
   "id": "5790d103-198c-41a7-8402-5c0d0ee59705",
   "metadata": {},
   "source": [
    "<div class=\"alert alert-success\">\n",
    "<strong>Well Done!</strong> <a href='https://en.wikipedia.org/wiki/Lorem_ipsum'>Lorem ipsum</a>.\n",
    "</div>"
   ]
  },
  {
   "cell_type": "markdown",
   "id": "e8ad1ba8-c6cf-4b11-ac93-1f39c1e54699",
   "metadata": {},
   "source": [
    "```\n",
    "<div class=\"alert alert-success\">\n",
    "<strong>Well Done!</strong> <a href='https://en.wikipedia.org/wiki/Lorem_ipsum'>Lorem ipsum</a>\n",
    "</div>\n",
    "```"
   ]
  },
  {
   "cell_type": "markdown",
   "id": "6d1ae374-54ee-4f58-8bf9-f886fe712891",
   "metadata": {},
   "source": [
    "## Comment or Wait!"
   ]
  },
  {
   "cell_type": "markdown",
   "id": "031f72b6-4b7b-4bc6-9833-ba7d95ad22cd",
   "metadata": {},
   "source": [
    "<div class=\"alert alert-warning\">\n",
    "<strong>Wait!</strong> <a href='https://en.wikipedia.org/wiki/Lorem_ipsum'>Lorem ipsum</a>.\n",
    "</div>\n",
    "\n",
    "<div class=\"alert alert-warning\">\n",
    "<strong>Comment:</strong> Lorem ipsum.\n",
    "</div>\n"
   ]
  },
  {
   "cell_type": "markdown",
   "id": "aa537590-a079-4bdb-836f-c0dcc1756218",
   "metadata": {},
   "source": [
    "```\n",
    "<div class=\"alert alert-warning\">\n",
    "<strong>Wait!</strong> <a href='https://en.wikipedia.org/wiki/Lorem_ipsum'>Lorem ipsum</a>.\n",
    "</div>\n",
    "```\n",
    "\n",
    "```\n",
    "<div class=\"alert alert-warning\">\n",
    "<strong>Comment:</strong> Lorem ipsum.\n",
    "</div>\n",
    "```"
   ]
  },
  {
   "cell_type": "markdown",
   "id": "db9da650-7086-486a-9558-e9c134bb17f6",
   "metadata": {},
   "source": [
    "## Note, More info, To do or Suggestion"
   ]
  },
  {
   "cell_type": "markdown",
   "id": "cd5bcacd-67c7-4b1b-b919-8203e3e4506c",
   "metadata": {},
   "source": [
    "<div class=\"alert alert-info\">\n",
    "<strong>Note:</strong> <a href='https://en.wikipedia.org/wiki/Lorem_ipsum'>Lorem ipsum</a>.\n",
    "</div>\n",
    "\n",
    "<div class=\"alert alert-info\">\n",
    "<strong>More Info:</strong> Lorem ipsum.\n",
    "</div>\n",
    "\n",
    "<div class=\"alert alert-info\">\n",
    "<strong>To do:</strong> Lorem ipsum.\n",
    "</div>\n",
    "\n",
    "<div class=\"alert alert-info\">\n",
    "<strong>Suggestion:</strong> Lorem ipsum.\n",
    "</div>\n"
   ]
  },
  {
   "cell_type": "markdown",
   "id": "2247b0df-dc32-4637-8056-740a401acbed",
   "metadata": {},
   "source": [
    "```\n",
    "<div class=\"alert alert-info\">\n",
    "<strong>Note:</strong> <a href='https://en.wikipedia.org/wiki/Lorem_ipsum'>Lorem ipsum</a>.\n",
    "</div>\n",
    "```\n",
    "\n",
    "```\n",
    "<div class=\"alert alert-info\">\n",
    "<strong>More Info:</strong> Lorem ipsum.\n",
    "</div>\n",
    "```\n",
    "\n",
    "```\n",
    "<div class=\"alert alert-info\">\n",
    "<strong>To do:</strong> Lorem ipsum.\n",
    "</div>\n",
    "```\n",
    "\n",
    "```\n",
    "<div class=\"alert alert-info\">\n",
    "<strong>Suggestion:</strong> Lorem ipsum.\n",
    "</div>\n",
    "```"
   ]
  },
  {
   "cell_type": "markdown",
   "id": "ff3e29d7-302c-4109-ae2c-5dec417da9c9",
   "metadata": {},
   "source": [
    "## Warning! or Wrong!\n",
    "\n",
    "<div class=\"alert alert-block alert-danger\">\n",
    "<strong>Warning!</strong> <a href='https://en.wikipedia.org/wiki/Lorem_ipsum'>Lorem ipsum</a>.\n",
    "</div>\n",
    "\n",
    "<div class=\"alert alert-block alert-danger\">\n",
    "<strong>Wrong!</strong> Lorem ipsum.\n",
    "</div>"
   ]
  },
  {
   "cell_type": "markdown",
   "id": "0afc5462-4c3d-4b21-8676-90f06f3fe2eb",
   "metadata": {},
   "source": [
    "```\n",
    "<div class=\"alert alert-danger\">\n",
    "<strong>Warning!</strong> <a href='https://en.wikipedia.org/wiki/Lorem_ipsum'>Lorem ipsum</a>.\n",
    "</div>\n",
    "```\n",
    "\n",
    "```\n",
    "<div class=\"alert alert-danger\">\n",
    "<strong>Wrong!</strong> Lorem ipsum.\n",
    "</div>\n",
    "```"
   ]
  }
 ],
 "metadata": {
  "kernelspec": {
   "display_name": "Python 3 (ipykernel)",
   "language": "python",
   "name": "python3"
  },
  "language_info": {
   "codemirror_mode": {
    "name": "ipython",
    "version": 3
   },
   "file_extension": ".py",
   "mimetype": "text/x-python",
   "name": "python",
   "nbconvert_exporter": "python",
   "pygments_lexer": "ipython3",
   "version": "3.7.12"
  }
 },
 "nbformat": 4,
 "nbformat_minor": 5
}
